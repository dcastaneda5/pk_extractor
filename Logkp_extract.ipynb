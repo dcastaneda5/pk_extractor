{
 "cells": [
  {
   "cell_type": "code",
   "execution_count": 8,
   "metadata": {},
   "outputs": [],
   "source": [
    "from chemdataextractor import Document\n",
    "from chemdataextractor.model import Compound\n",
    "from chemdataextractor.doc import Paragraph, Heading\n",
    "from chemdataextractor.parse.cem import CompoundParser"
   ]
  },
  {
   "cell_type": "code",
   "execution_count": 9,
   "metadata": {},
   "outputs": [],
   "source": [
    "d = Document(\n",
    "    Heading(u'DLSCORE: A Deep Learning algorithm to identify ligands'),\n",
    "    Paragraph(u'The algorithm identified some of the ligands and their values, such as resorcinol with a logkp 3.79.'))\n"
   ]
  },
  {
   "cell_type": "code",
   "execution_count": 10,
   "metadata": {},
   "outputs": [
    {
     "data": {
      "text/plain": [
       "[{'names': ['resorcinol']}]"
      ]
     },
     "execution_count": 10,
     "metadata": {},
     "output_type": "execute_result"
    }
   ],
   "source": [
    "d.records.serialize()"
   ]
  },
  {
   "cell_type": "code",
   "execution_count": 11,
   "metadata": {},
   "outputs": [],
   "source": [
    "from chemdataextractor.model import BaseModel, StringType, ListType, ModelType\n",
    "\n",
    "class logkp(BaseModel):\n",
    "    value = StringType()\n",
    "    units = StringType()\n",
    "    \n",
    "Compound.logkp_points = ListType(ModelType(logkp))"
   ]
  },
  {
   "cell_type": "code",
   "execution_count": 47,
   "metadata": {},
   "outputs": [],
   "source": [
    "import re\n",
    "from chemdataextractor.parse import R, I, W, Optional, merge\n",
    "\n",
    "prefix = (R(u'^logkp$', re.I) + Optional(I('of') | I('is')|I('was')| I('equals')|I('range')|I('=')|I('equivalent')\n",
    "                                        |I('within')|I('varies')|I('were')|I('between')|I('values')|I('value')\n",
    "                                        |I('number')).hide()\n",
    "                                + Optional(I('of')|I('is')|I('to')|I('was')|I('were')|I('between')|I('equivalent'))\n",
    "                                + Optional(I('to'))\n",
    "        )\n",
    "#units = Optional(R(u'^\\.?$'))(u'units').add_action(merge)\n",
    "#value = R(u'^\\d+(\\.\\d+)?$')(u'value')\n",
    "value = R(u'^(\\-)?\\d+(\\.\\d+)?$')(u'value')\n",
    "logkp_model = (prefix + value)(u'logkp')"
   ]
  },
  {
   "cell_type": "code",
   "execution_count": 48,
   "metadata": {},
   "outputs": [],
   "source": [
    "from chemdataextractor.parse.base import BaseParser\n",
    "from chemdataextractor.utils import first\n",
    "\n",
    "class logkpParser(BaseParser):\n",
    "    root = logkp_model\n",
    "\n",
    "    def interpret(self, result, start, end):\n",
    "        compound = Compound(\n",
    "            logkp_points=[\n",
    "                logkp(\n",
    "                    value=first(result.xpath('./value/text()'))\n",
    "                    #units=first(result.xpath('./units/text()'))\n",
    "                )\n",
    "            ]\n",
    "        )\n",
    "        cem_el = first(result.xpath('/Users/dshrestha/Downloads/ChemDataExtractor-master/chemdataextractor/parse/cem'))\n",
    "        if cem_el is not None:\n",
    "            compound.names = cem_el.xpath('/Users/dshrestha/Downloads/ChemDataExtractor-master/chemdataextractor/parse/name/text()')\n",
    "            compound.labels = cem_el.xpath('/Users/dshrestha/Downloads/ChemDataExtractor-master/chemdataextractor/parse/label/text()')\n",
    "        yield compound\n"
   ]
  },
  {
   "cell_type": "code",
   "execution_count": 50,
   "metadata": {},
   "outputs": [],
   "source": [
    "Paragraph.parsers = [CompoundParser(),logkpParser()]"
   ]
  },
  {
   "cell_type": "code",
   "execution_count": 52,
   "metadata": {},
   "outputs": [
    {
     "data": {
      "text/plain": [
       "[{'names': ['resorcinol']}, {'logkp_points': [{'value': '-555553.88'}]}]"
      ]
     },
     "execution_count": 52,
     "metadata": {},
     "output_type": "execute_result"
    }
   ],
   "source": [
    "d = Document(\n",
    "    Heading(u'DLSCORE: A Deep Learning algorithm to identify ligands'),\n",
    "    Paragraph(u'The algorithm identified some of the ligands and their values, such as resorcinol with a logkp range was -555553.88 - 9.8'))\n",
    "d.records.serialize()"
   ]
  },
  {
   "cell_type": "code",
   "execution_count": null,
   "metadata": {},
   "outputs": [],
   "source": []
  }
 ],
 "metadata": {
  "kernelspec": {
   "display_name": "Python 3",
   "language": "python",
   "name": "python3"
  },
  "language_info": {
   "codemirror_mode": {
    "name": "ipython",
    "version": 3
   },
   "file_extension": ".py",
   "mimetype": "text/x-python",
   "name": "python",
   "nbconvert_exporter": "python",
   "pygments_lexer": "ipython3",
   "version": "3.5.4"
  }
 },
 "nbformat": 4,
 "nbformat_minor": 2
}
